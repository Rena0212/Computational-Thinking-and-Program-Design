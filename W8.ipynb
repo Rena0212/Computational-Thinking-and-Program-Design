{
  "nbformat": 4,
  "nbformat_minor": 0,
  "metadata": {
    "colab": {
      "name": "W8.ipynb",
      "provenance": [],
      "authorship_tag": "ABX9TyM91BMTON0JZivK3LczVe+8",
      "include_colab_link": true
    },
    "kernelspec": {
      "name": "python3",
      "display_name": "Python 3"
    }
  },
  "cells": [
    {
      "cell_type": "markdown",
      "metadata": {
        "id": "view-in-github",
        "colab_type": "text"
      },
      "source": [
        "<a href=\"https://colab.research.google.com/github/Rena0212/Computational-Thinking-and-Program-Design/blob/master/W8.ipynb\" target=\"_parent\"><img src=\"https://colab.research.google.com/assets/colab-badge.svg\" alt=\"Open In Colab\"/></a>"
      ]
    },
    {
      "cell_type": "code",
      "metadata": {
        "id": "6ws1RRzNnZsT",
        "colab_type": "code",
        "colab": {
          "base_uri": "https://localhost:8080/",
          "height": 126
        },
        "outputId": "b11779e8-ebb6-43a5-e79c-7442be903881"
      },
      "source": [
        "minutes_to_convert = 133\n",
        "hours_decimal = minutes_to_convert/60 #取得小時\n",
        "hours_part = int(hours_decimal) #取得整數\n",
        "minutes_decimal = hours_decimal - hours_part #取得整數\n",
        "minutes_part = round(minutes_decimal*60) #取得分鐘數\n",
        "print(\"Hours\")\n",
        "print(hours_part)\n",
        "print(\"Minutes\")\n",
        "print(minutes_part)\n",
        "print(\"Length\")\n",
        "print(minutes_to_convert)"
      ],
      "execution_count": 7,
      "outputs": [
        {
          "output_type": "stream",
          "text": [
            "Hours\n",
            "2\n",
            "Minutes\n",
            "13\n",
            "Length\n",
            "133\n"
          ],
          "name": "stdout"
        }
      ]
    },
    {
      "cell_type": "code",
      "metadata": {
        "id": "RcX7yTthoz85",
        "colab_type": "code",
        "colab": {}
      },
      "source": [
        ""
      ],
      "execution_count": 0,
      "outputs": []
    }
  ]
}