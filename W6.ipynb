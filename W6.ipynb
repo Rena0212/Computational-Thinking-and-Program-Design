{
  "nbformat": 4,
  "nbformat_minor": 0,
  "metadata": {
    "colab": {
      "name": "W6.ipynb",
      "provenance": [],
      "collapsed_sections": []
    },
    "kernelspec": {
      "name": "python3",
      "display_name": "Python 3"
    }
  },
  "cells": [
    {
      "cell_type": "code",
      "metadata": {
        "id": "AyAJTTf_CIwz",
        "colab_type": "code",
        "colab": {
          "base_uri": "https://localhost:8080/",
          "height": 35
        },
        "outputId": "591219f4-6803-4fd4-d00f-b2d79881eae2"
      },
      "source": [
        "print(\"我的名字是\",\"洪嘉翎\")"
      ],
      "execution_count": 3,
      "outputs": [
        {
          "output_type": "stream",
          "text": [
            "我的名字是 洪嘉翎\n"
          ],
          "name": "stdout"
        }
      ]
    },
    {
      "cell_type": "code",
      "metadata": {
        "id": "UavLrEPTE3hr",
        "colab_type": "code",
        "colab": {
          "base_uri": "https://localhost:8080/",
          "height": 35
        },
        "outputId": "6f3030db-8cb5-47f8-eaa7-dcd70587d509"
      },
      "source": [
        "name=\"洪嘉翎\"\n",
        "print(\"我的名字是\",name)"
      ],
      "execution_count": 14,
      "outputs": [
        {
          "output_type": "stream",
          "text": [
            "我的名字是 洪嘉翎\n"
          ],
          "name": "stdout"
        }
      ]
    },
    {
      "cell_type": "code",
      "metadata": {
        "id": "bOpWQICqFSm3",
        "colab_type": "code",
        "colab": {
          "base_uri": "https://localhost:8080/",
          "height": 52
        },
        "outputId": "18f38aa6-f4ee-4cde-e065-ba44d409c5a8"
      },
      "source": [
        "name=input(\"請輸入你的名字\")\n",
        "print(\"名字為\",name)"
      ],
      "execution_count": 5,
      "outputs": [
        {
          "output_type": "stream",
          "text": [
            "請輸入你的名字洪嘉翎\n",
            "名字為 洪嘉翎\n"
          ],
          "name": "stdout"
        }
      ]
    },
    {
      "cell_type": "code",
      "metadata": {
        "id": "EDfo809aHjJ_",
        "colab_type": "code",
        "colab": {
          "base_uri": "https://localhost:8080/",
          "height": 35
        },
        "outputId": "76aa3915-94d9-4502-f47c-8f1cbe2ee15e"
      },
      "source": [
        "print(\"我的年紀是\",19,\"歲\")"
      ],
      "execution_count": 6,
      "outputs": [
        {
          "output_type": "stream",
          "text": [
            "我的年紀是 19 歲\n"
          ],
          "name": "stdout"
        }
      ]
    },
    {
      "cell_type": "code",
      "metadata": {
        "id": "spZjFP00JzFD",
        "colab_type": "code",
        "colab": {
          "base_uri": "https://localhost:8080/",
          "height": 35
        },
        "outputId": "f70e88b7-f1e5-4075-fa73-69cb7300a149"
      },
      "source": [
        "year=19\n",
        "print(\"我的年紀是\",year,\"歲\")"
      ],
      "execution_count": 7,
      "outputs": [
        {
          "output_type": "stream",
          "text": [
            "我的年紀是 19 歲\n"
          ],
          "name": "stdout"
        }
      ]
    },
    {
      "cell_type": "code",
      "metadata": {
        "id": "JP5ulSSdKCi_",
        "colab_type": "code",
        "colab": {
          "base_uri": "https://localhost:8080/",
          "height": 52
        },
        "outputId": "b0187f96-aa19-43c9-9894-283805bbe7f5"
      },
      "source": [
        "year=input(\"請輸入你的年紀\")\n",
        "print(\"年紀為\",year)"
      ],
      "execution_count": 8,
      "outputs": [
        {
          "output_type": "stream",
          "text": [
            "請輸入你的年紀19\n",
            "年紀為 19\n"
          ],
          "name": "stdout"
        }
      ]
    },
    {
      "cell_type": "code",
      "metadata": {
        "id": "2ATJyzg0KPyY",
        "colab_type": "code",
        "colab": {
          "base_uri": "https://localhost:8080/",
          "height": 35
        },
        "outputId": "b15f611d-7579-4969-ad6e-974e0fb015ac"
      },
      "source": [
        "print(\"我的體重是\",42,\"公斤\")"
      ],
      "execution_count": 9,
      "outputs": [
        {
          "output_type": "stream",
          "text": [
            "我的體重是 42 公斤\n"
          ],
          "name": "stdout"
        }
      ]
    },
    {
      "cell_type": "code",
      "metadata": {
        "id": "_-QkAcBaKeQI",
        "colab_type": "code",
        "colab": {
          "base_uri": "https://localhost:8080/",
          "height": 35
        },
        "outputId": "c77cdc27-f018-4831-9546-63660087fe51"
      },
      "source": [
        "weight=42\n",
        "print(\"我的體重是\",weight,\"公斤\")"
      ],
      "execution_count": 10,
      "outputs": [
        {
          "output_type": "stream",
          "text": [
            "我的體重是 42 公斤\n"
          ],
          "name": "stdout"
        }
      ]
    },
    {
      "cell_type": "code",
      "metadata": {
        "id": "e4uJftfJK0Dg",
        "colab_type": "code",
        "colab": {
          "base_uri": "https://localhost:8080/",
          "height": 52
        },
        "outputId": "ad90930a-5abf-456b-9c46-bde4277de3ca"
      },
      "source": [
        "weight=input(\"請輸入你的體重\")\n",
        "print(\"體重為\",weight)"
      ],
      "execution_count": 11,
      "outputs": [
        {
          "output_type": "stream",
          "text": [
            "請輸入你的體重42\n",
            "體重為 42\n"
          ],
          "name": "stdout"
        }
      ]
    },
    {
      "cell_type": "code",
      "metadata": {
        "id": "mxAMV_tILGhS",
        "colab_type": "code",
        "colab": {}
      },
      "source": [
        ""
      ],
      "execution_count": 0,
      "outputs": []
    }
  ]
}