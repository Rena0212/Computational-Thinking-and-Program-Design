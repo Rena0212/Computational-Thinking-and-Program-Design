{
  "nbformat": 4,
  "nbformat_minor": 0,
  "metadata": {
    "colab": {
      "name": "W7.ipynb",
      "provenance": [],
      "authorship_tag": "ABX9TyOHYrxSJcszdPTVtPrJoF0+",
      "include_colab_link": true
    },
    "kernelspec": {
      "name": "python3",
      "display_name": "Python 3"
    }
  },
  "cells": [
    {
      "cell_type": "markdown",
      "metadata": {
        "id": "view-in-github",
        "colab_type": "text"
      },
      "source": [
        "<a href=\"https://colab.research.google.com/github/Rena0212/Computational-Thinking-and-Program-Design/blob/master/W7.ipynb\" target=\"_parent\"><img src=\"https://colab.research.google.com/assets/colab-badge.svg\" alt=\"Open In Colab\"/></a>"
      ]
    },
    {
      "cell_type": "code",
      "metadata": {
        "id": "TipmVzGZoyt2",
        "colab_type": "code",
        "colab": {}
      },
      "source": [
        "#網址:https://www.imdb.com/title/tt11239552/"
      ],
      "execution_count": 0,
      "outputs": []
    },
    {
      "cell_type": "code",
      "metadata": {
        "id": "ii2oONrQpEGG",
        "colab_type": "code",
        "colab": {
          "base_uri": "https://localhost:8080/",
          "height": 199
        },
        "outputId": "5dbe38d9-b789-4b42-99f9-1e9fdbf1d226"
      },
      "source": [
        "drama_title=\"Itaewon Keullasseu\"#影片名稱\n",
        "release_year=\"2020\" #上映年分\n",
        "drama_time_min=70#平均一集\n",
        "rating=8.3\n",
        "\n",
        "director=\"Kim Sung Yoon\"#韓劇導演金成允\n",
        "stars_1=\"Park Seo Jun\"#朴敘俊\n",
        "stars_2=\"Kim Da-mi\"#金多美\n",
        "stars_3=\"Kwon Na-ra\"#權娜拉\n",
        "stars_4=\"Yoo Jae-myung\"#劉在明\n",
        "\n",
        "like=\"?\"#沒看過這部\n",
        "\n",
        "print(drama_title)\n",
        "print(release_year)\n",
        "print(drama_time_min)\n",
        "print(rating)\n",
        "print(director)\n",
        "print(stars_1)\n",
        "print(stars_2)\n",
        "print(stars_3)\n",
        "print(stars_4)\n",
        "print(like)"
      ],
      "execution_count": 7,
      "outputs": [
        {
          "output_type": "stream",
          "text": [
            "Itaewon Keullasseu\n",
            "2020\n",
            "70\n",
            "8.3\n",
            "Kim Sung Yoon\n",
            "Park Seo Jun\n",
            "Kim Da-mi\n",
            "Kwon Na-ra\n",
            "Yoo Jae-myung\n",
            "?\n"
          ],
          "name": "stdout"
        }
      ]
    },
    {
      "cell_type": "code",
      "metadata": {
        "id": "D-8nKW8ppz-5",
        "colab_type": "code",
        "colab": {}
      },
      "source": [
        ""
      ],
      "execution_count": 0,
      "outputs": []
    }
  ]
}