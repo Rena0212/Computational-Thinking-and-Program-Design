{
  "nbformat": 4,
  "nbformat_minor": 0,
  "metadata": {
    "colab": {
      "name": "W10 專題示範題目.ipynb",
      "provenance": [],
      "authorship_tag": "ABX9TyM7o6sX2pF9WpMn0GZOWJMk",
      "include_colab_link": true
    },
    "kernelspec": {
      "name": "python3",
      "display_name": "Python 3"
    }
  },
  "cells": [
    {
      "cell_type": "markdown",
      "metadata": {
        "id": "view-in-github",
        "colab_type": "text"
      },
      "source": [
        "<a href=\"https://colab.research.google.com/github/Rena0212/Computational-Thinking-and-Program-Design/blob/master/W10_%E5%B0%88%E9%A1%8C%E7%A4%BA%E7%AF%84%E9%A1%8C%E7%9B%AE.ipynb\" target=\"_parent\"><img src=\"https://colab.research.google.com/assets/colab-badge.svg\" alt=\"Open In Colab\"/></a>"
      ]
    },
    {
      "cell_type": "markdown",
      "metadata": {
        "id": "TdcZU4B9mxi0",
        "colab_type": "text"
      },
      "source": [
        "第一題:\n",
        "假設上衣300元、褲子350元與背心400元，使用者可以自行輸入三種服裝的數量，請設計一個程式計算訂購服裝的總金額。"
      ]
    },
    {
      "cell_type": "code",
      "metadata": {
        "id": "cr_jjWaNefOe",
        "colab_type": "code",
        "colab": {
          "base_uri": "https://localhost:8080/",
          "height": 90
        },
        "outputId": "aec288d3-fa6f-4284-ba06-f66f916e5c64"
      },
      "source": [
        "上衣=int(input('請輸入上衣數量'))\n",
        "褲子=int(input('請輸入褲子數量'))\n",
        "背心=int(input('請輸入背心數量'))\n",
        "總金額=(上衣*300+褲子*350+背心*400)\n",
        "print('總金額為',總金額)"
      ],
      "execution_count": 4,
      "outputs": [
        {
          "output_type": "stream",
          "text": [
            "請輸入上衣數量1\n",
            "請輸入褲子數量1\n",
            "請輸入背心數量1\n",
            "總金額為 1050\n"
          ],
          "name": "stdout"
        }
      ]
    },
    {
      "cell_type": "markdown",
      "metadata": {
        "id": "urF27CmNm8Ca",
        "colab_type": "text"
      },
      "source": [
        "第二題:\n",
        "為了刺激銷售量，賣場通常買一打會比買一罐便宜，假設一罐賣20元，一打賣200元，請設計一個程式計算買幾罐需花多少錢，若不足一打就個別買。"
      ]
    },
    {
      "cell_type": "code",
      "metadata": {
        "id": "Io7y-LzGiok7",
        "colab_type": "code",
        "colab": {
          "base_uri": "https://localhost:8080/",
          "height": 54
        },
        "outputId": "8382bd48-237b-4f38-ceaa-7d90aeda7ece"
      },
      "source": [
        "幾罐=int(input('請輸入買多少罐'))\n",
        "一打=幾罐//12  #算成一打，沒有小數點\n",
        "散罐=幾罐%12   #只算小數點\n",
        "總金額=一打*200+散罐*20\n",
        "print('總金額為',總金額)"
      ],
      "execution_count": 5,
      "outputs": [
        {
          "output_type": "stream",
          "text": [
            "請輸入買多少罐13\n",
            "總金額為 220\n"
          ],
          "name": "stdout"
        }
      ]
    },
    {
      "cell_type": "markdown",
      "metadata": {
        "id": "giRpF3-KnFao",
        "colab_type": "text"
      },
      "source": [
        "第三題:求第一次期中考、第二次期中考與期末考成績，成績皆為整數，請計算分數的加總與平均。"
      ]
    },
    {
      "cell_type": "code",
      "metadata": {
        "id": "e4QghXKcj9bT",
        "colab_type": "code",
        "colab": {
          "base_uri": "https://localhost:8080/",
          "height": 108
        },
        "outputId": "cdf4352a-cb48-4414-8c6b-ad9f5b6844c0"
      },
      "source": [
        "第一次=int(input('請輸入第一次期中考成績'))\n",
        "第二次=int(input('請輸入第二次期中考成績'))\n",
        "第三次=int(input('請輸入期末考成績'))\n",
        "總分=第一次+第二次+第三次  #加總\n",
        "平均=總分/3   #算平均\n",
        "print('總分為',總分)\n",
        "print('平均為',平均)"
      ],
      "execution_count": 6,
      "outputs": [
        {
          "output_type": "stream",
          "text": [
            "請輸入第一次期中考成績20\n",
            "請輸入第二次期中考成績30\n",
            "請輸入期末考成績60\n",
            "總分為 110\n",
            "平均為 36.666666666666664\n"
          ],
          "name": "stdout"
        }
      ]
    }
  ]
}