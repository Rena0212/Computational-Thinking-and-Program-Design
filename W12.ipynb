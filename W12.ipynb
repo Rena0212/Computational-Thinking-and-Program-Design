{
  "nbformat": 4,
  "nbformat_minor": 0,
  "metadata": {
    "colab": {
      "name": "W12.ipynb",
      "provenance": [],
      "authorship_tag": "ABX9TyPSAtiLtVAqjBy7v+V0JYOz",
      "include_colab_link": true
    },
    "kernelspec": {
      "name": "python3",
      "display_name": "Python 3"
    }
  },
  "cells": [
    {
      "cell_type": "markdown",
      "metadata": {
        "id": "view-in-github",
        "colab_type": "text"
      },
      "source": [
        "<a href=\"https://colab.research.google.com/github/Rena0212/Computational-Thinking-and-Program-Design/blob/master/W12.ipynb\" target=\"_parent\"><img src=\"https://colab.research.google.com/assets/colab-badge.svg\" alt=\"Open In Colab\"/></a>"
      ]
    },
    {
      "cell_type": "markdown",
      "metadata": {
        "id": "BufOHTN8rhah",
        "colab_type": "text"
      },
      "source": [
        "假設你今天要煮義大利麵：請先弄清楚你有(1)麵和(2)醬料嗎？然後就知道是否晚餐是吃義大利麵了！方法（一）：直接把兩個問題用and合併：你是否有麵和醬料呢？\n",
        "方法（二）：先問有沒有麵，再問有沒有醬料呢？巢狀結構"
      ]
    },
    {
      "cell_type": "code",
      "metadata": {
        "id": "LEHEEOpNwNgM",
        "colab_type": "code",
        "colab": {
          "base_uri": "https://localhost:8080/",
          "height": 69
        },
        "outputId": "3319c90d-8c4e-4956-ecdf-3f1be5a6a259"
      },
      "source": [
        "noodles=input('你有麵嗎?')\n",
        "sauce=input('你有醬料嗎?')\n",
        "if noodles=='有' and sauce=='有':\n",
        "   print('那晚餐吃義大利麵')\n",
        "else:\n",
        "   print('那晚餐就不能吃義大利麵')"
      ],
      "execution_count": 7,
      "outputs": [
        {
          "output_type": "stream",
          "text": [
            "你有麵嗎?沒有\n",
            "你有醬料嗎?沒有\n",
            "那晚餐就不能吃義大利麵\n"
          ],
          "name": "stdout"
        }
      ]
    },
    {
      "cell_type": "code",
      "metadata": {
        "id": "nLX7bqA73Pz5",
        "colab_type": "code",
        "colab": {
          "base_uri": "https://localhost:8080/",
          "height": 52
        },
        "outputId": "d9719322-99ef-4b79-c9ec-91092be1bd65"
      },
      "source": [
        "noodles=input('你有麵嗎?')\n",
        "if noodles ==\"有\":\n",
        "   sauce=input('那你有醬料嗎?')\n",
        "   if sauce=='有':\n",
        "      print('那我們晚餐吃義大利麵')\n",
        "   else:\n",
        "      print('那晚餐沒辦法吃義大利麵')\n",
        "else:\n",
        "   print('那我們晚餐沒辦法吃義大利麵')\n"
      ],
      "execution_count": 15,
      "outputs": [
        {
          "output_type": "stream",
          "text": [
            "你有麵嗎?沒有\n",
            "那我們晚餐沒辦法吃義大利麵\n"
          ],
          "name": "stdout"
        }
      ]
    }
  ]
}