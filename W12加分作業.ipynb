{
  "nbformat": 4,
  "nbformat_minor": 0,
  "metadata": {
    "colab": {
      "name": "W12加分作業.ipynb",
      "provenance": [],
      "authorship_tag": "ABX9TyM7cwA3KgGuaU9ySa3Q3OoW",
      "include_colab_link": true
    },
    "kernelspec": {
      "name": "python3",
      "display_name": "Python 3"
    }
  },
  "cells": [
    {
      "cell_type": "markdown",
      "metadata": {
        "id": "view-in-github",
        "colab_type": "text"
      },
      "source": [
        "<a href=\"https://colab.research.google.com/github/Rena0212/Computational-Thinking-and-Program-Design/blob/master/W12%E5%8A%A0%E5%88%86%E4%BD%9C%E6%A5%AD.ipynb\" target=\"_parent\"><img src=\"https://colab.research.google.com/assets/colab-badge.svg\" alt=\"Open In Colab\"/></a>"
      ]
    },
    {
      "cell_type": "code",
      "metadata": {
        "id": "lz6k0TVgIpMz",
        "colab_type": "code",
        "colab": {
          "base_uri": "https://localhost:8080/",
          "height": 87
        },
        "outputId": "94ee80e2-e943-4382-8bf8-1b7c142be91e"
      },
      "source": [
        "hungry=input('現在餓嗎?YES or NO')\n",
        "price= float(input('一條巧克力多少錢?'))\n",
        "\n",
        "bars=0\n",
        "if hungry=='YES':\n",
        "  if price<10:\n",
        "    print('便宜，多買點')\n",
        "    bars=100\n",
        "  if 10<=price<=50:\n",
        "    print('還好，買一些')\n",
        "    bars=10\n",
        "  if price>50:\n",
        "    print('好貴，買一條')\n",
        "    bars=1\n",
        "if hungry=='NO':\n",
        "  print('不餓就不買了')\n",
        "if bars>10:\n",
        "  print('店員說:今天很餓!')"
      ],
      "execution_count": 3,
      "outputs": [
        {
          "output_type": "stream",
          "text": [
            "現在餓嗎?YES or NOYES\n",
            "一條巧克力多少錢?5\n",
            "便宜，多買點\n",
            "店員說:今天很餓!\n"
          ],
          "name": "stdout"
        }
      ]
    }
  ]
}