{
  "nbformat": 4,
  "nbformat_minor": 0,
  "metadata": {
    "colab": {
      "name": "W14 作業1.ipynb",
      "provenance": [],
      "authorship_tag": "ABX9TyORwhlx5buqfvnx7DUO4XsA",
      "include_colab_link": true
    },
    "kernelspec": {
      "name": "python3",
      "display_name": "Python 3"
    }
  },
  "cells": [
    {
      "cell_type": "markdown",
      "metadata": {
        "id": "view-in-github",
        "colab_type": "text"
      },
      "source": [
        "<a href=\"https://colab.research.google.com/github/Rena0212/Computational-Thinking-and-Program-Design/blob/master/W14_%E4%BD%9C%E6%A5%AD1.ipynb\" target=\"_parent\"><img src=\"https://colab.research.google.com/assets/colab-badge.svg\" alt=\"Open In Colab\"/></a>"
      ]
    },
    {
      "cell_type": "markdown",
      "metadata": {
        "id": "sQlby_O5ubCC",
        "colab_type": "text"
      },
      "source": [
        "請寫一個程式讓使用者輸入身高與體重，顯示BMI 值與肥胖程度。"
      ]
    },
    {
      "cell_type": "code",
      "metadata": {
        "id": "2RtLx3hjuQpJ",
        "colab_type": "code",
        "colab": {
          "base_uri": "https://localhost:8080/",
          "height": 90
        },
        "outputId": "406bd450-bc11-4a88-db19-ebdc6f3b0582"
      },
      "source": [
        "體重=int(input('請輸入你的體重'))\n",
        "身高=int(input('請輸入你的身高'))\n",
        "BMI=體重/((身高/100)*(身高/100))\n",
        "print('BMI值為',BMI)\n",
        "if BMI<18:\n",
        "  print('過輕了，要多吃點')\n",
        "elif BMI<24:\n",
        "  print('正常，不胖也不瘦，剛剛好')\n",
        "elif BMI<27:\n",
        "  print('過重，該稍微控制下飲食囉')\n",
        "else:\n",
        "  print('超重，去減肥!!')"
      ],
      "execution_count": 8,
      "outputs": [
        {
          "output_type": "stream",
          "text": [
            "請輸入你的體重42\n",
            "請輸入你的身高164\n",
            "BMI值為 15.615704937537183\n",
            "過輕了，要多吃點\n"
          ],
          "name": "stdout"
        }
      ]
    }
  ]
}