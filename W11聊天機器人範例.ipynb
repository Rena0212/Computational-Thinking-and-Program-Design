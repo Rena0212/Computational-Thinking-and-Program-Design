{
  "nbformat": 4,
  "nbformat_minor": 0,
  "metadata": {
    "colab": {
      "name": "W11聊天機器人範例.ipynb",
      "provenance": [],
      "authorship_tag": "ABX9TyM/ISyjvZgMjOh+xc/HkTCM",
      "include_colab_link": true
    },
    "kernelspec": {
      "name": "python3",
      "display_name": "Python 3"
    }
  },
  "cells": [
    {
      "cell_type": "markdown",
      "metadata": {
        "id": "view-in-github",
        "colab_type": "text"
      },
      "source": [
        "<a href=\"https://colab.research.google.com/github/Rena0212/Computational-Thinking-and-Program-Design/blob/master/W11%E8%81%8A%E5%A4%A9%E6%A9%9F%E5%99%A8%E4%BA%BA%E7%AF%84%E4%BE%8B.ipynb\" target=\"_parent\"><img src=\"https://colab.research.google.com/assets/colab-badge.svg\" alt=\"Open In Colab\"/></a>"
      ]
    },
    {
      "cell_type": "markdown",
      "metadata": {
        "id": "z60bUxwjH9UN",
        "colab_type": "text"
      },
      "source": [
        "哈囉。我是ZYXO64。我是一個聊天機器人。我喜歡動物，也喜歡食物。\n",
        "你叫甚麼名字?:**Joe**\n",
        "你好*Joe*，很高興認識你。"
      ]
    },
    {
      "cell_type": "code",
      "metadata": {
        "id": "8PqIPCysGRrC",
        "colab_type": "code",
        "colab": {
          "base_uri": "https://localhost:8080/",
          "height": 87
        },
        "outputId": "38a74d7d-de62-46a3-c829-3fad962b2fe9"
      },
      "source": [
        "#聊天機器人自我介紹\n",
        "print('哈囉。我是ZYXO64。我是一個聊天機器人')\n",
        "print('我喜歡動物，也喜歡食物。')\n",
        "\n",
        "#取得使用者名字\n",
        "name=input('你叫甚麼名字?')\n",
        "\n",
        "#打招呼\n",
        "print('你好',name,'很高興認識你')"
      ],
      "execution_count": 1,
      "outputs": [
        {
          "output_type": "stream",
          "text": [
            "哈囉。我是ZYXO64。我是一個聊天機器人\n",
            "我喜歡動物，也喜歡食物。\n",
            "你叫甚麼名字?rena\n",
            "你好 rena 很高興認識你\n"
          ],
          "name": "stdout"
        }
      ]
    }
  ]
}