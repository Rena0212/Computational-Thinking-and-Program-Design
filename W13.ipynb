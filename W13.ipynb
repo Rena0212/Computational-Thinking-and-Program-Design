{
  "nbformat": 4,
  "nbformat_minor": 0,
  "metadata": {
    "colab": {
      "name": "W13.ipynb",
      "provenance": [],
      "authorship_tag": "ABX9TyOxyw8YFQkPj/avEw17dQeX",
      "include_colab_link": true
    },
    "kernelspec": {
      "name": "python3",
      "display_name": "Python 3"
    }
  },
  "cells": [
    {
      "cell_type": "markdown",
      "metadata": {
        "id": "view-in-github",
        "colab_type": "text"
      },
      "source": [
        "<a href=\"https://colab.research.google.com/github/Rena0212/Computational-Thinking-and-Program-Design/blob/master/W13.ipynb\" target=\"_parent\"><img src=\"https://colab.research.google.com/assets/colab-badge.svg\" alt=\"Open In Colab\"/></a>"
      ]
    },
    {
      "cell_type": "code",
      "metadata": {
        "id": "4WFG9AI3o7VO",
        "colab_type": "code",
        "outputId": "4c42a738-ff38-4531-d562-75a3468611be",
        "colab": {
          "base_uri": "https://localhost:8080/",
          "height": 54
        }
      },
      "source": [
        "#及格或不及格\n",
        "\n",
        "分數=int(input('輸入分數'))\n",
        "\n",
        "if 分數 >= 60:\n",
        "   print('及格了')\n",
        "else:\n",
        "   print('不及格')"
      ],
      "execution_count": 0,
      "outputs": [
        {
          "output_type": "stream",
          "text": [
            "輸入分數61\n",
            "及格了\n"
          ],
          "name": "stdout"
        }
      ]
    },
    {
      "cell_type": "markdown",
      "metadata": {
        "id": "wpY8C-5_397S",
        "colab_type": "text"
      },
      "source": [
        "請用單向選擇、雙向選擇與多向選擇三種方式  若成績大於等於80 分，評語為「非常好」；否則若成績大於等於60 分，評語為「不錯喔」；否則評語為「要加油」。"
      ]
    },
    {
      "cell_type": "code",
      "metadata": {
        "id": "YAo1KvdHxYCd",
        "colab_type": "code",
        "colab": {
          "base_uri": "https://localhost:8080/",
          "height": 54
        },
        "outputId": "5e44c249-cb21-4867-85d0-db6702b43059"
      },
      "source": [
        "#成績判斷\n",
        "##>=80 非常好  >=60不錯  <60要加油\n",
        "\n",
        "###單向選擇 if\n",
        "score=int(input('請輸入成績'))\n",
        "if score>=80:\n",
        "  print('非常好')\n",
        "if 80>score>=60:\n",
        " print('不錯喔')\n",
        "if score<60:\n",
        " print('要加油')\n",
        "\n"
      ],
      "execution_count": 12,
      "outputs": [
        {
          "output_type": "stream",
          "text": [
            "請輸入成績59\n",
            "要加油\n"
          ],
          "name": "stdout"
        }
      ]
    },
    {
      "cell_type": "code",
      "metadata": {
        "id": "Ngyw22245Z8M",
        "colab_type": "code",
        "colab": {
          "base_uri": "https://localhost:8080/",
          "height": 72
        },
        "outputId": "0a3e77ee-890f-48ed-be09-9975013034ae"
      },
      "source": [
        "###雙向選擇 if else \n",
        "score=int(input('請輸入成績'))\n",
        "if score>=80:\n",
        "  print('非常好')\n",
        "else:\n",
        "  print('再加油')\n",
        "  if score>=60:\n",
        "    print('不錯喔')\n",
        "  else:\n",
        "    print('要再認真一點')"
      ],
      "execution_count": 18,
      "outputs": [
        {
          "output_type": "stream",
          "text": [
            "請輸入成績59\n",
            "再加油\n",
            "要再認真一點\n"
          ],
          "name": "stdout"
        }
      ]
    },
    {
      "cell_type": "code",
      "metadata": {
        "id": "cFwn018D5cnQ",
        "colab_type": "code",
        "colab": {
          "base_uri": "https://localhost:8080/",
          "height": 54
        },
        "outputId": "7aecbb7b-452d-490d-c3ae-d031491bd230"
      },
      "source": [
        "###多項選擇 if elif else \n",
        "score=int(input('請輸入成績'))\n",
        "if score>=80:\n",
        "  print('很棒喔')\n",
        "elif score>=60:\n",
        "  print('不錯喔')\n",
        "else:\n",
        "  print('要認真點')"
      ],
      "execution_count": 25,
      "outputs": [
        {
          "output_type": "stream",
          "text": [
            "請輸入成績59\n",
            "要認真點\n"
          ],
          "name": "stdout"
        }
      ]
    },
    {
      "cell_type": "code",
      "metadata": {
        "id": "9vmm6rVi9qpB",
        "colab_type": "code",
        "colab": {
          "base_uri": "https://localhost:8080/",
          "height": 54
        },
        "outputId": "4c575f37-34a0-40ed-c5cc-60d06e37b480"
      },
      "source": [
        "###雙向選擇，從60分寫\n",
        "score=int(input('請輸入成績'))\n",
        "if score<60:\n",
        "  print('要認真點')\n",
        "else:\n",
        "    print('不錯喔')\n",
        "    if score>=80:\n",
        "      print('很棒喔')\n",
        "    else:\n",
        "      print('有及格') "
      ],
      "execution_count": 32,
      "outputs": [
        {
          "output_type": "stream",
          "text": [
            "請輸入成績59\n",
            "要認真點\n"
          ],
          "name": "stdout"
        }
      ]
    }
  ]
}