{
  "nbformat": 4,
  "nbformat_minor": 0,
  "metadata": {
    "colab": {
      "name": "W14 作業2.ipynb",
      "provenance": [],
      "authorship_tag": "ABX9TyMCpkABhDqbxUVRsY9DvXmg",
      "include_colab_link": true
    },
    "kernelspec": {
      "name": "python3",
      "display_name": "Python 3"
    }
  },
  "cells": [
    {
      "cell_type": "markdown",
      "metadata": {
        "id": "view-in-github",
        "colab_type": "text"
      },
      "source": [
        "<a href=\"https://colab.research.google.com/github/Rena0212/Computational-Thinking-and-Program-Design/blob/master/W14_%E4%BD%9C%E6%A5%AD2.ipynb\" target=\"_parent\"><img src=\"https://colab.research.google.com/assets/colab-badge.svg\" alt=\"Open In Colab\"/></a>"
      ]
    },
    {
      "cell_type": "markdown",
      "metadata": {
        "id": "_EOmnN-au2Iy",
        "colab_type": "text"
      },
      "source": [
        "請用while迴圈印十次\"Hello，你好嗎！\""
      ]
    },
    {
      "cell_type": "code",
      "metadata": {
        "id": "a9LRKqxeuyj1",
        "colab_type": "code",
        "colab": {
          "base_uri": "https://localhost:8080/",
          "height": 199
        },
        "outputId": "250dae35-8c60-4bdf-f7eb-4de62d982a66"
      },
      "source": [
        "n=1\n",
        "while n<=10:\n",
        "  \n",
        "  print('Hello，你好嗎?')\n",
        "  n=n+1\n"
      ],
      "execution_count": 3,
      "outputs": [
        {
          "output_type": "stream",
          "text": [
            "Hello，你好嗎?\n",
            "Hello，你好嗎?\n",
            "Hello，你好嗎?\n",
            "Hello，你好嗎?\n",
            "Hello，你好嗎?\n",
            "Hello，你好嗎?\n",
            "Hello，你好嗎?\n",
            "Hello，你好嗎?\n",
            "Hello，你好嗎?\n",
            "Hello，你好嗎?\n"
          ],
          "name": "stdout"
        }
      ]
    }
  ]
}