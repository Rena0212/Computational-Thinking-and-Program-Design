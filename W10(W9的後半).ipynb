{
  "nbformat": 4,
  "nbformat_minor": 0,
  "metadata": {
    "kernelspec": {
      "display_name": "Python 3",
      "language": "python",
      "name": "python3"
    },
    "language_info": {
      "codemirror_mode": {
        "name": "ipython",
        "version": 3
      },
      "file_extension": ".py",
      "mimetype": "text/x-python",
      "name": "python",
      "nbconvert_exporter": "python",
      "pygments_lexer": "ipython3",
      "version": "3.7.4"
    },
    "colab": {
      "name": "W10(W9的後半).ipynb",
      "provenance": [],
      "include_colab_link": true
    }
  },
  "cells": [
    {
      "cell_type": "markdown",
      "metadata": {
        "id": "view-in-github",
        "colab_type": "text"
      },
      "source": [
        "<a href=\"https://colab.research.google.com/github/Rena0212/Computational-Thinking-and-Program-Design/blob/master/W10(W9%E7%9A%84%E5%BE%8C%E5%8D%8A).ipynb\" target=\"_parent\"><img src=\"https://colab.research.google.com/assets/colab-badge.svg\" alt=\"Open In Colab\"/></a>"
      ]
    },
    {
      "cell_type": "markdown",
      "metadata": {
        "id": "GVUFDEa8oeLs",
        "colab_type": "text"
      },
      "source": [
        "範例： 全班40人分組，每五位同學一組，老師規定依座號順序分組，也就是1號到5號一組，6號到10號一組，請寫一個程式允許使用者輸入座號，輸出分組的組別。"
      ]
    },
    {
      "cell_type": "code",
      "metadata": {
        "id": "HbZS6bywe0dX",
        "colab_type": "code",
        "outputId": "6fb50962-d4d3-42b0-91bc-b5b820afbb04",
        "colab": {
          "base_uri": "https://localhost:8080/",
          "height": 54
        }
      },
      "source": [
        "座號 = int(input(\"請輸入座號\")) \n",
        "組別 = (座號-1)//5 + 1\n",
        "print(\"組別為\", 組別)"
      ],
      "execution_count": 1,
      "outputs": [
        {
          "output_type": "stream",
          "text": [
            "請輸入座號16\n",
            "組別為 4\n"
          ],
          "name": "stdout"
        }
      ]
    },
    {
      "cell_type": "markdown",
      "metadata": {
        "id": "sN926QvsGUXO",
        "colab_type": "text"
      },
      "source": [
        "### LBD 1: 請設計一個程式計算圓面積與圓周長，依輸入的半徑計算圓面積與圓周長。"
      ]
    },
    {
      "cell_type": "code",
      "metadata": {
        "id": "2-slz5kVGUXP",
        "colab_type": "code",
        "colab": {}
      },
      "source": [
        "半徑=int(input('請輸入半徑'))\n",
        "圓面積=(半徑*半徑*3.14)\n",
        "圓周長=(半徑*2*3.14)\n",
        "print('面積為',圓面積)\n",
        "print('周長為',圓周長)"
      ],
      "execution_count": 0,
      "outputs": []
    },
    {
      "cell_type": "markdown",
      "metadata": {
        "id": "oOcVBQ0qGUXS",
        "colab_type": "text"
      },
      "source": [
        "### LBD 2: 請設計一個程式將輸入的攝氏溫度轉成華氏溫度，轉換公式如下:華氏溫度= 攝氏溫度*9/5+32"
      ]
    },
    {
      "cell_type": "code",
      "metadata": {
        "id": "I2-ot2oLGUXT",
        "colab_type": "code",
        "colab": {}
      },
      "source": [
        "半徑=int(input('請輸入半徑'))\n",
        "圓面積=(半徑*半徑*3.14)\n",
        "圓周長=(半徑*2*3.14)\n",
        "print('面積為',圓面積)\n",
        "print('周長為',圓周長)"
      ],
      "execution_count": 0,
      "outputs": []
    },
    {
      "cell_type": "markdown",
      "metadata": {
        "id": "c14IvE9CGUXY",
        "colab_type": "text"
      },
      "source": [
        "### LBD 3: 假設上衣300元、褲子350元與背心400元，使用者可以自行輸入三種服裝的數量，請設計一個程式計算訂購服裝的總金額。"
      ]
    },
    {
      "cell_type": "code",
      "metadata": {
        "id": "2LaEyo0eGUXZ",
        "colab_type": "code",
        "outputId": "e1d3bea0-4cfe-4249-97ae-3bd9c676528f",
        "colab": {
          "base_uri": "https://localhost:8080/",
          "height": 90
        }
      },
      "source": [
        "上衣=int(input('請輸入上衣數量'))\n",
        "褲子=int(input('請輸入褲子數量'))\n",
        "背心=int(input('請輸入背心數量'))\n",
        "總金額=(上衣*300+褲子*350+背心*400)\n",
        "print('總金額為',總金額)"
      ],
      "execution_count": 0,
      "outputs": [
        {
          "output_type": "stream",
          "text": [
            "請輸入上衣數量1\n",
            "請輸入褲子數量1\n",
            "請輸入背心數量1\n",
            "總金額為 1050\n"
          ],
          "name": "stdout"
        }
      ]
    },
    {
      "cell_type": "markdown",
      "metadata": {
        "id": "fRsgdKMxGUXc",
        "colab_type": "text"
      },
      "source": [
        "### LBD 4: 為了刺激銷售量，賣場通常買一打會比買一罐便宜，假設一罐賣20元，一打賣200元，請設計一個程式計算買幾罐需花多少錢，若不足一打就個別買。"
      ]
    },
    {
      "cell_type": "code",
      "metadata": {
        "id": "HAqDX3vrGUXd",
        "colab_type": "code",
        "outputId": "035f7a96-6cac-4cc9-8b63-19ea57d96658",
        "colab": {
          "base_uri": "https://localhost:8080/",
          "height": 54
        }
      },
      "source": [
        "數量=int(input('請輸入數量'))\n",
        "一打=(數量//12)\n",
        "不足一打=(數量%12)\n",
        "金額=(一打*200+不足一打*20)\n",
        "print('總金額為',金額)"
      ],
      "execution_count": 0,
      "outputs": [
        {
          "output_type": "stream",
          "text": [
            "請輸入數量13\n",
            "總金額為 220\n"
          ],
          "name": "stdout"
        }
      ]
    },
    {
      "cell_type": "markdown",
      "metadata": {
        "id": "D2HCggJ1GUXf",
        "colab_type": "text"
      },
      "source": [
        "### LBD 5: 請輸入第一次期中考、第二次期中考與期末考成績，成績皆為整數，請計算分數的加總與平均。"
      ]
    },
    {
      "cell_type": "code",
      "metadata": {
        "id": "-mLPMTskGUXg",
        "colab_type": "code",
        "outputId": "726af452-9cb0-4ec7-d46c-b32e36f84c6d",
        "colab": {
          "base_uri": "https://localhost:8080/",
          "height": 108
        }
      },
      "source": [
        "第一次期中考=int(input('請輸入第一次期中考成績'))\n",
        "第二次期中考=int(input('請輸入第二次期中考成績'))\n",
        "期末考=int(input('請輸入期末考成績'))\n",
        "加總=(第一次期中考+第二次期中考+期末考)\n",
        "平均=((第一次期中考+第二次期中考+期末考)/3)\n",
        "print('分數加總為',加總)\n",
        "print('分數平均為',平均)"
      ],
      "execution_count": 0,
      "outputs": [
        {
          "output_type": "stream",
          "text": [
            "請輸入第一次期中考成績30\n",
            "請輸入第二次期中考成績30\n",
            "請輸入期末考成績30\n",
            "分數加總為 90\n",
            "分數平均為 30.0\n"
          ],
          "name": "stdout"
        }
      ]
    },
    {
      "cell_type": "code",
      "metadata": {
        "id": "74Dl-TPXfNuD",
        "colab_type": "code",
        "colab": {}
      },
      "source": [
        ""
      ],
      "execution_count": 0,
      "outputs": []
    }
  ]
}